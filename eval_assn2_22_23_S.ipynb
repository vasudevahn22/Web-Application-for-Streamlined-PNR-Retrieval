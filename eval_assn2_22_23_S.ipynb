{
  "cells": [
    {
      "cell_type": "code",
      "execution_count": 1,
      "metadata": {
        "id": "BZoTAbt8GKkF"
      },
      "outputs": [],
      "source": [
        "import predict\n",
        "import time as tm\n",
        "import numpy as np"
      ]
    },
    {
      "cell_type": "code",
      "execution_count": 2,
      "metadata": {
        "colab": {
          "base_uri": "https://localhost:8080/"
        },
        "id": "V9ELUUmHGRHQ",
        "outputId": "0026f777-2b11-47d2-e83a-7b9502561aa2"
      },
      "outputs": [
        {
          "name": "stdout",
          "output_type": "stream",
          "text": [
            "Time taken per image is 0.028157863000014913 seconds\n",
            "Parity match score is 1.0\n"
          ]
        }
      ],
      "source": [
        "num_test = 200\n",
        "filepaths = [ \"test/%d.png\" % i for i in range( num_test ) ]\n",
        "file = open( \"test/labels.txt\", \"r\" )\n",
        "gold_output = file.read().splitlines()\n",
        "file.close()\n",
        "\n",
        "# Get recommendations from predict.py and time the thing\n",
        "tic = tm.perf_counter()\n",
        "output = predict.decaptcha( filepaths )\n",
        "toc = tm.perf_counter()\n",
        "\n",
        "parity_match = np.array( [ 1 if x.strip().upper() == y.strip().upper() else 0 for ( x, y ) in zip ( output, gold_output ) ] ).sum()\n",
        "\n",
        "print( f\"Time taken per image is {(toc - tic) / num_test} seconds\" )\n",
        "print( f\"Parity match score is {parity_match / num_test}\" )"
      ]
    },
    {
      "cell_type": "code",
      "execution_count": null,
      "metadata": {
        "id": "EYCosqJdO7eo"
      },
      "outputs": [],
      "source": []
    }
  ],
  "metadata": {
    "colab": {
      "provenance": [],
      "toc_visible": true
    },
    "kernelspec": {
      "display_name": "Python 3",
      "name": "python3"
    },
    "language_info": {
      "codemirror_mode": {
        "name": "ipython",
        "version": 3
      },
      "file_extension": ".py",
      "mimetype": "text/x-python",
      "name": "python",
      "nbconvert_exporter": "python",
      "pygments_lexer": "ipython3",
      "version": "3.10.5"
    }
  },
  "nbformat": 4,
  "nbformat_minor": 0
}
